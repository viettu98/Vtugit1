{
 "cells": [
  {
   "cell_type": "code",
   "execution_count": 1,
   "id": "a4318f5e",
   "metadata": {},
   "outputs": [
    {
     "ename": "AttributeError",
     "evalue": "module 'pandas' has no attribute 'Dataframe'",
     "output_type": "error",
     "traceback": [
      "\u001b[1;31m---------------------------------------------------------------------------\u001b[0m",
      "\u001b[1;31mAttributeError\u001b[0m                            Traceback (most recent call last)",
      "\u001b[1;32m~\\AppData\\Local\\Temp/ipykernel_11448/3608868.py\u001b[0m in \u001b[0;36m<module>\u001b[1;34m\u001b[0m\n\u001b[0;32m      6\u001b[0m     \u001b[1;33m[\u001b[0m\u001b[1;34m'Online'\u001b[0m\u001b[1;33m,\u001b[0m \u001b[1;36m5\u001b[0m\u001b[1;33m]\u001b[0m\u001b[1;33m\u001b[0m\u001b[1;33m\u001b[0m\u001b[0m\n\u001b[0;32m      7\u001b[0m ]\n\u001b[1;32m----> 8\u001b[1;33m \u001b[0mresult\u001b[0m \u001b[1;33m=\u001b[0m \u001b[0mpd\u001b[0m\u001b[1;33m.\u001b[0m\u001b[0mDataframe\u001b[0m\u001b[1;33m(\u001b[0m\u001b[0mdata\u001b[0m\u001b[1;33m,\u001b[0m \u001b[0mcolumns\u001b[0m \u001b[1;33m=\u001b[0m \u001b[1;33m[\u001b[0m\u001b[1;34m'Name'\u001b[0m\u001b[1;33m,\u001b[0m\u001b[1;34m'Degree'\u001b[0m\u001b[1;33m]\u001b[0m\u001b[1;33m)\u001b[0m\u001b[1;33m\u001b[0m\u001b[1;33m\u001b[0m\u001b[0m\n\u001b[0m\u001b[0;32m      9\u001b[0m \u001b[0mPrint\u001b[0m\u001b[1;33m(\u001b[0m\u001b[0mresult\u001b[0m\u001b[1;33m)\u001b[0m\u001b[1;33m\u001b[0m\u001b[1;33m\u001b[0m\u001b[0m\n",
      "\u001b[1;32m~\\anaconda3\\lib\\site-packages\\pandas\\__init__.py\u001b[0m in \u001b[0;36m__getattr__\u001b[1;34m(name)\u001b[0m\n\u001b[0;32m    242\u001b[0m         \u001b[1;32mreturn\u001b[0m \u001b[0m_SparseArray\u001b[0m\u001b[1;33m\u001b[0m\u001b[1;33m\u001b[0m\u001b[0m\n\u001b[0;32m    243\u001b[0m \u001b[1;33m\u001b[0m\u001b[0m\n\u001b[1;32m--> 244\u001b[1;33m     \u001b[1;32mraise\u001b[0m \u001b[0mAttributeError\u001b[0m\u001b[1;33m(\u001b[0m\u001b[1;34mf\"module 'pandas' has no attribute '{name}'\"\u001b[0m\u001b[1;33m)\u001b[0m\u001b[1;33m\u001b[0m\u001b[1;33m\u001b[0m\u001b[0m\n\u001b[0m\u001b[0;32m    245\u001b[0m \u001b[1;33m\u001b[0m\u001b[0m\n\u001b[0;32m    246\u001b[0m \u001b[1;33m\u001b[0m\u001b[0m\n",
      "\u001b[1;31mAttributeError\u001b[0m: module 'pandas' has no attribute 'Dataframe'"
     ]
    }
   ],
   "source": [
    "import pandas as pd\n",
    "data = [\n",
    "    ['Hoc', 2],\n",
    "    ['Excel', 3],\n",
    "    ['PowerBi', 4],\n",
    "    ['Online', 5]\n",
    "]\n",
    "result = pd.Dataframe(data, columns = ['Name','Degree'])\n",
    "Print(result)"
   ]
  },
  {
   "cell_type": "code",
   "execution_count": null,
   "id": "44151104",
   "metadata": {},
   "outputs": [],
   "source": [
    "1export LC_ALL=en_US.UTF-8\n",
    "export LANG=en_US.UTF-8"
   ]
  },
  {
   "cell_type": "code",
   "execution_count": 1,
   "id": "809b47fe",
   "metadata": {},
   "outputs": [
    {
     "data": {
      "text/plain": [
       "8"
      ]
     },
     "execution_count": 1,
     "metadata": {},
     "output_type": "execute_result"
    }
   ],
   "source": [
    "3 + 5"
   ]
  },
  {
   "cell_type": "code",
   "execution_count": null,
   "id": "9b3cc3e8",
   "metadata": {},
   "outputs": [],
   "source": [
    "import pandas as pd"
   ]
  },
  {
   "cell_type": "code",
   "execution_count": null,
   "id": "6accf2e3",
   "metadata": {},
   "outputs": [],
   "source": [
    "import numpy as np"
   ]
  },
  {
   "cell_type": "code",
   "execution_count": null,
   "id": "03e5cc84",
   "metadata": {},
   "outputs": [],
   "source": [
    "pd.__version__"
   ]
  },
  {
   "cell_type": "code",
   "execution_count": null,
   "id": "80cba27a",
   "metadata": {},
   "outputs": [],
   "source": [
    "np.__version__"
   ]
  },
  {
   "cell_type": "code",
   "execution_count": null,
   "id": "faa89b11",
   "metadata": {},
   "outputs": [],
   "source": [
    "3 + 4"
   ]
  },
  {
   "cell_type": "code",
   "execution_count": null,
   "id": "76858cdd",
   "metadata": {},
   "outputs": [],
   "source": [
    "%config Completer.use_jedi = False"
   ]
  },
  {
   "cell_type": "markdown",
   "id": "353da9d4",
   "metadata": {},
   "source": [
    "#3 + 4"
   ]
  },
  {
   "cell_type": "code",
   "execution_count": null,
   "id": "fc28073e",
   "metadata": {},
   "outputs": [],
   "source": [
    "3 + 4\n",
    "#3 + 4\n",
    "#3+4"
   ]
  },
  {
   "cell_type": "code",
   "execution_count": null,
   "id": "754af250",
   "metadata": {},
   "outputs": [],
   "source": [
    "ádfasdf"
   ]
  },
  {
   "cell_type": "markdown",
   "id": "7f108e18",
   "metadata": {},
   "source": [
    "ádfasdfasf"
   ]
  },
  {
   "cell_type": "code",
   "execution_count": null,
   "id": "bf8550ca",
   "metadata": {},
   "outputs": [],
   "source": [
    "ádfasdfasdfasdf"
   ]
  },
  {
   "cell_type": "markdown",
   "id": "e4a3a868",
   "metadata": {},
   "source": [
    "sadfasdjkfksdf"
   ]
  },
  {
   "cell_type": "code",
   "execution_count": null,
   "id": "a23f48af",
   "metadata": {},
   "outputs": [],
   "source": [
    "import matplotlib.plot as plt"
   ]
  },
  {
   "cell_type": "code",
   "execution_count": null,
   "id": "c9d5e88c",
   "metadata": {},
   "outputs": [],
   "source": [
    "import matplotlib.pyplot as plt"
   ]
  },
  {
   "cell_type": "code",
   "execution_count": null,
   "id": "7d780d02",
   "metadata": {},
   "outputs": [],
   "source": [
    "plt.style.available"
   ]
  },
  {
   "cell_type": "code",
   "execution_count": null,
   "id": "7258e08d",
   "metadata": {},
   "outputs": [],
   "source": [
    " data.Datareader()"
   ]
  },
  {
   "cell_type": "code",
   "execution_count": null,
   "id": "616b02a8",
   "metadata": {},
   "outputs": [],
   "source": [
    "bb =  data.Datareader(name = \"BB\", datasource = \"yahoo\" , start = \"2007-01-01\" , end = \"2020-12-31\")\n",
    "bb.head(3)"
   ]
  },
  {
   "cell_type": "code",
   "execution_count": null,
   "id": "d122fc18",
   "metadata": {},
   "outputs": [],
   "source": [
    "bb =  data.Datareader(name = \"BB\", data_source = \"yahoo\" , start = \"2007-01-01\" , end = \"2020-12-31\")\n",
    "bb.head(3)"
   ]
  },
  {
   "cell_type": "code",
   "execution_count": null,
   "id": "6dd8157d",
   "metadata": {},
   "outputs": [],
   "source": [
    "bb =  data.DataReader(name = \"BB\", data_source = \"yahoo\" , start = \"2007-01-01\" , end = \"2020-12-31\")\n",
    "bb.head(3)"
   ]
  },
  {
   "cell_type": "code",
   "execution_count": null,
   "id": "8dcbbd97",
   "metadata": {},
   "outputs": [],
   "source": [
    "bb =  Data.DataReader(name = \"BB\", data_source = \"yahoo\" , start = \"2007-01-01\" , end = \"2020-12-31\")\n",
    "bb.head(3)"
   ]
  },
  {
   "cell_type": "code",
   "execution_count": null,
   "id": "130c8345",
   "metadata": {},
   "outputs": [],
   "source": [
    "bb =  data.DataReader(name = \"BB\", data_source = \"yahoo\" , start = \"2007-01-01\" , end = \"2020-12-31\")\n",
    "bb.head(3)"
   ]
  },
  {
   "cell_type": "code",
   "execution_count": null,
   "id": "5cce5195",
   "metadata": {},
   "outputs": [],
   "source": [
    "pip install pandas-datareader"
   ]
  },
  {
   "cell_type": "code",
   "execution_count": null,
   "id": "33866b79",
   "metadata": {},
   "outputs": [],
   "source": [
    "bb =  data.DataReader(name = \"BB\", data_source = \"yahoo\" , start = \"2007-01-01\" , end = \"2020-12-31\")\n",
    "bb.head(3)"
   ]
  },
  {
   "cell_type": "code",
   "execution_count": null,
   "id": "7afa809c",
   "metadata": {},
   "outputs": [],
   "source": [
    "bb =  data.DataReader(name = \"BB\", data_source = \"yahoo\" , start = \"2007-01-01\" , end = \"2020-12-31\")\n",
    "bb.head(3)"
   ]
  },
  {
   "cell_type": "code",
   "execution_count": null,
   "id": "b8fb192f",
   "metadata": {},
   "outputs": [],
   "source": [
    "bb = data.DataReader(name = \"BB\", data_source=\"yahoo\", start = \"2007-07-01\", end = \"2008-12-31\")\n",
    "\n"
   ]
  },
  {
   "cell_type": "code",
   "execution_count": null,
   "id": "ec56cba2",
   "metadata": {},
   "outputs": [],
   "source": [
    "import matplotlib.pyplot as plt\n",
    "%matplotlib inline"
   ]
  },
  {
   "cell_type": "code",
   "execution_count": null,
   "id": "f9897d4d",
   "metadata": {},
   "outputs": [],
   "source": [
    "bb = data.DataReader(name = \"BB\", data_source=\"yahoo\", start = \"2007-07-01\", end = \"2008-12-31\")"
   ]
  },
  {
   "cell_type": "code",
   "execution_count": null,
   "id": "22bc3d3f",
   "metadata": {},
   "outputs": [],
   "source": [
    "bb = data.DataReader(name=\"GOOG\", data_source=\"iex\", start=\"2017-05-21\", end=\"2018-01-06\")"
   ]
  },
  {
   "cell_type": "code",
   "execution_count": 1,
   "id": "8eead581",
   "metadata": {},
   "outputs": [],
   "source": [
    "%config Completer.use_jedi = False"
   ]
  },
  {
   "cell_type": "code",
   "execution_count": null,
   "id": "a4ae29bd",
   "metadata": {},
   "outputs": [],
   "source": [
    "pd."
   ]
  }
 ],
 "metadata": {
  "kernelspec": {
   "display_name": "Python 3 (ipykernel)",
   "language": "python",
   "name": "python3"
  },
  "language_info": {
   "codemirror_mode": {
    "name": "ipython",
    "version": 3
   },
   "file_extension": ".py",
   "mimetype": "text/x-python",
   "name": "python",
   "nbconvert_exporter": "python",
   "pygments_lexer": "ipython3",
   "version": "3.9.7"
  }
 },
 "nbformat": 4,
 "nbformat_minor": 5
}
